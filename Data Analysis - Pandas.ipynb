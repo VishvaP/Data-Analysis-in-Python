{
 "metadata": {
  "language_info": {
   "codemirror_mode": {
    "name": "ipython",
    "version": 3
   },
   "file_extension": ".py",
   "mimetype": "text/x-python",
   "name": "python",
   "nbconvert_exporter": "python",
   "pygments_lexer": "ipython3",
   "version": "3.9.2-final"
  },
  "orig_nbformat": 2,
  "kernelspec": {
   "name": "python3",
   "display_name": "Python 3.9.2 64-bit",
   "metadata": {
    "interpreter": {
     "hash": "d8b6ecbdba0b7fff4c6cf416e62da2a8e37902105abf9c70106cf6390a7bd68a"
    }
   }
  }
 },
 "nbformat": 4,
 "nbformat_minor": 2,
 "cells": [
  {
   "cell_type": "code",
   "execution_count": 2,
   "metadata": {},
   "outputs": [],
   "source": [
    "#Data Analysis using Pandas "
   ]
  },
  {
   "cell_type": "code",
   "execution_count": 48,
   "metadata": {},
   "outputs": [],
   "source": [
    "##Python for Finance, 2nd Edition. This notebook summarizes important concepts and functions of the pandas library that you will need to analyze and summarize data.\n"
   ]
  },
  {
   "cell_type": "code",
   "execution_count": null,
   "metadata": {},
   "outputs": [],
   "source": [
    "'''\n",
    "Frequently used functions of pandas\n",
    "DataFrame()\n",
    "date_range()\n",
    "'''"
   ]
  },
  {
   "cell_type": "code",
   "execution_count": 5,
   "metadata": {},
   "outputs": [
    {
     "output_type": "execute_result",
     "data": {
      "text/plain": [
       "   numbers\n",
       "a       10\n",
       "b       20\n",
       "c       30\n",
       "d       40"
      ],
      "text/html": "<div>\n<style scoped>\n    .dataframe tbody tr th:only-of-type {\n        vertical-align: middle;\n    }\n\n    .dataframe tbody tr th {\n        vertical-align: top;\n    }\n\n    .dataframe thead th {\n        text-align: right;\n    }\n</style>\n<table border=\"1\" class=\"dataframe\">\n  <thead>\n    <tr style=\"text-align: right;\">\n      <th></th>\n      <th>numbers</th>\n    </tr>\n  </thead>\n  <tbody>\n    <tr>\n      <th>a</th>\n      <td>10</td>\n    </tr>\n    <tr>\n      <th>b</th>\n      <td>20</td>\n    </tr>\n    <tr>\n      <th>c</th>\n      <td>30</td>\n    </tr>\n    <tr>\n      <th>d</th>\n      <td>40</td>\n    </tr>\n  </tbody>\n</table>\n</div>"
     },
     "metadata": {},
     "execution_count": 5
    }
   ],
   "source": [
    "import pandas as pd \n",
    "df = pd.DataFrame([10,20,30,40],columns=['numbers'],index=['a','b','c','d'])\n",
    "df"
   ]
  },
  {
   "cell_type": "code",
   "execution_count": 7,
   "metadata": {},
   "outputs": [],
   "source": [
    "#Things to be noted:\n",
    "\n",
    "## Data itself can be provided in different shapes and types (list, tuple, ndarray, and dict objects are candidates).\n",
    "## Data is organized in columns, which can have custom names (labels).\n",
    "## There is an index that can take on different formats (e.g., numbers, strings, time information).\n",
    "\n"
   ]
  },
  {
   "cell_type": "code",
   "execution_count": 8,
   "metadata": {},
   "outputs": [
    {
     "output_type": "execute_result",
     "data": {
      "text/plain": [
       "Index(['numbers'], dtype='object')"
      ]
     },
     "metadata": {},
     "execution_count": 8
    }
   ],
   "source": [
    "df.columns"
   ]
  },
  {
   "cell_type": "code",
   "execution_count": 9,
   "metadata": {},
   "outputs": [
    {
     "output_type": "execute_result",
     "data": {
      "text/plain": [
       "Index(['a', 'b', 'c', 'd'], dtype='object')"
      ]
     },
     "metadata": {},
     "execution_count": 9
    }
   ],
   "source": [
    "df.index"
   ]
  },
  {
   "cell_type": "code",
   "execution_count": 13,
   "metadata": {},
   "outputs": [
    {
     "output_type": "execute_result",
     "data": {
      "text/plain": [
       "numbers    10\n",
       "Name: a, dtype: int64"
      ]
     },
     "metadata": {},
     "execution_count": 13
    }
   ],
   "source": [
    "df.loc['a']"
   ]
  },
  {
   "cell_type": "code",
   "execution_count": 15,
   "metadata": {},
   "outputs": [
    {
     "output_type": "execute_result",
     "data": {
      "text/plain": [
       "numbers    100\n",
       "dtype: int64"
      ]
     },
     "metadata": {},
     "execution_count": 15
    }
   ],
   "source": [
    "df.sum()"
   ]
  },
  {
   "cell_type": "code",
   "execution_count": 16,
   "metadata": {},
   "outputs": [
    {
     "output_type": "execute_result",
     "data": {
      "text/plain": [
       "   numbers\n",
       "a      100\n",
       "b      400\n",
       "c      900\n",
       "d     1600"
      ],
      "text/html": "<div>\n<style scoped>\n    .dataframe tbody tr th:only-of-type {\n        vertical-align: middle;\n    }\n\n    .dataframe tbody tr th {\n        vertical-align: top;\n    }\n\n    .dataframe thead th {\n        text-align: right;\n    }\n</style>\n<table border=\"1\" class=\"dataframe\">\n  <thead>\n    <tr style=\"text-align: right;\">\n      <th></th>\n      <th>numbers</th>\n    </tr>\n  </thead>\n  <tbody>\n    <tr>\n      <th>a</th>\n      <td>100</td>\n    </tr>\n    <tr>\n      <th>b</th>\n      <td>400</td>\n    </tr>\n    <tr>\n      <th>c</th>\n      <td>900</td>\n    </tr>\n    <tr>\n      <th>d</th>\n      <td>1600</td>\n    </tr>\n  </tbody>\n</table>\n</div>"
     },
     "metadata": {},
     "execution_count": 16
    }
   ],
   "source": [
    "df.apply(lambda x:x**2)"
   ]
  },
  {
   "cell_type": "code",
   "execution_count": 17,
   "metadata": {},
   "outputs": [
    {
     "output_type": "execute_result",
     "data": {
      "text/plain": [
       "   numbers\n",
       "a      100\n",
       "b      400\n",
       "c      900\n",
       "d     1600"
      ],
      "text/html": "<div>\n<style scoped>\n    .dataframe tbody tr th:only-of-type {\n        vertical-align: middle;\n    }\n\n    .dataframe tbody tr th {\n        vertical-align: top;\n    }\n\n    .dataframe thead th {\n        text-align: right;\n    }\n</style>\n<table border=\"1\" class=\"dataframe\">\n  <thead>\n    <tr style=\"text-align: right;\">\n      <th></th>\n      <th>numbers</th>\n    </tr>\n  </thead>\n  <tbody>\n    <tr>\n      <th>a</th>\n      <td>100</td>\n    </tr>\n    <tr>\n      <th>b</th>\n      <td>400</td>\n    </tr>\n    <tr>\n      <th>c</th>\n      <td>900</td>\n    </tr>\n    <tr>\n      <th>d</th>\n      <td>1600</td>\n    </tr>\n  </tbody>\n</table>\n</div>"
     },
     "metadata": {},
     "execution_count": 17
    }
   ],
   "source": [
    "df**2"
   ]
  },
  {
   "cell_type": "code",
   "execution_count": 18,
   "metadata": {},
   "outputs": [],
   "source": [
    "df['floats']=(1.5,2.5,3.5,4.5)"
   ]
  },
  {
   "cell_type": "code",
   "execution_count": 19,
   "metadata": {},
   "outputs": [
    {
     "output_type": "execute_result",
     "data": {
      "text/plain": [
       "   numbers  floats\n",
       "a       10     1.5\n",
       "b       20     2.5\n",
       "c       30     3.5\n",
       "d       40     4.5"
      ],
      "text/html": "<div>\n<style scoped>\n    .dataframe tbody tr th:only-of-type {\n        vertical-align: middle;\n    }\n\n    .dataframe tbody tr th {\n        vertical-align: top;\n    }\n\n    .dataframe thead th {\n        text-align: right;\n    }\n</style>\n<table border=\"1\" class=\"dataframe\">\n  <thead>\n    <tr style=\"text-align: right;\">\n      <th></th>\n      <th>numbers</th>\n      <th>floats</th>\n    </tr>\n  </thead>\n  <tbody>\n    <tr>\n      <th>a</th>\n      <td>10</td>\n      <td>1.5</td>\n    </tr>\n    <tr>\n      <th>b</th>\n      <td>20</td>\n      <td>2.5</td>\n    </tr>\n    <tr>\n      <th>c</th>\n      <td>30</td>\n      <td>3.5</td>\n    </tr>\n    <tr>\n      <th>d</th>\n      <td>40</td>\n      <td>4.5</td>\n    </tr>\n  </tbody>\n</table>\n</div>"
     },
     "metadata": {},
     "execution_count": 19
    }
   ],
   "source": [
    "df"
   ]
  },
  {
   "cell_type": "code",
   "execution_count": 20,
   "metadata": {},
   "outputs": [
    {
     "output_type": "execute_result",
     "data": {
      "text/plain": [
       "a    1.5\n",
       "b    2.5\n",
       "c    3.5\n",
       "d    4.5\n",
       "Name: floats, dtype: float64"
      ]
     },
     "metadata": {},
     "execution_count": 20
    }
   ],
   "source": [
    "df['floats']"
   ]
  },
  {
   "cell_type": "code",
   "execution_count": 21,
   "metadata": {},
   "outputs": [],
   "source": [
    "df['names'] = pd.DataFrame(['Yves', 'Sandra', 'Lilli', 'Henry'],index=['d', 'a', 'b', 'c']) "
   ]
  },
  {
   "cell_type": "code",
   "execution_count": 22,
   "metadata": {},
   "outputs": [
    {
     "output_type": "execute_result",
     "data": {
      "text/plain": [
       "   numbers  floats   names\n",
       "a       10     1.5  Sandra\n",
       "b       20     2.5   Lilli\n",
       "c       30     3.5   Henry\n",
       "d       40     4.5    Yves"
      ],
      "text/html": "<div>\n<style scoped>\n    .dataframe tbody tr th:only-of-type {\n        vertical-align: middle;\n    }\n\n    .dataframe tbody tr th {\n        vertical-align: top;\n    }\n\n    .dataframe thead th {\n        text-align: right;\n    }\n</style>\n<table border=\"1\" class=\"dataframe\">\n  <thead>\n    <tr style=\"text-align: right;\">\n      <th></th>\n      <th>numbers</th>\n      <th>floats</th>\n      <th>names</th>\n    </tr>\n  </thead>\n  <tbody>\n    <tr>\n      <th>a</th>\n      <td>10</td>\n      <td>1.5</td>\n      <td>Sandra</td>\n    </tr>\n    <tr>\n      <th>b</th>\n      <td>20</td>\n      <td>2.5</td>\n      <td>Lilli</td>\n    </tr>\n    <tr>\n      <th>c</th>\n      <td>30</td>\n      <td>3.5</td>\n      <td>Henry</td>\n    </tr>\n    <tr>\n      <th>d</th>\n      <td>40</td>\n      <td>4.5</td>\n      <td>Yves</td>\n    </tr>\n  </tbody>\n</table>\n</div>"
     },
     "metadata": {},
     "execution_count": 22
    }
   ],
   "source": [
    "df"
   ]
  },
  {
   "cell_type": "code",
   "execution_count": 26,
   "metadata": {},
   "outputs": [
    {
     "output_type": "execute_result",
     "data": {
      "text/plain": [
       "   numbers  floats   names\n",
       "0       10    1.50  Sandra\n",
       "1       20    2.50   Lilli\n",
       "2       30    3.50   Henry\n",
       "3       40    4.50    Yves\n",
       "4      100    5.75     Jil"
      ],
      "text/html": "<div>\n<style scoped>\n    .dataframe tbody tr th:only-of-type {\n        vertical-align: middle;\n    }\n\n    .dataframe tbody tr th {\n        vertical-align: top;\n    }\n\n    .dataframe thead th {\n        text-align: right;\n    }\n</style>\n<table border=\"1\" class=\"dataframe\">\n  <thead>\n    <tr style=\"text-align: right;\">\n      <th></th>\n      <th>numbers</th>\n      <th>floats</th>\n      <th>names</th>\n    </tr>\n  </thead>\n  <tbody>\n    <tr>\n      <th>0</th>\n      <td>10</td>\n      <td>1.50</td>\n      <td>Sandra</td>\n    </tr>\n    <tr>\n      <th>1</th>\n      <td>20</td>\n      <td>2.50</td>\n      <td>Lilli</td>\n    </tr>\n    <tr>\n      <th>2</th>\n      <td>30</td>\n      <td>3.50</td>\n      <td>Henry</td>\n    </tr>\n    <tr>\n      <th>3</th>\n      <td>40</td>\n      <td>4.50</td>\n      <td>Yves</td>\n    </tr>\n    <tr>\n      <th>4</th>\n      <td>100</td>\n      <td>5.75</td>\n      <td>Jil</td>\n    </tr>\n  </tbody>\n</table>\n</div>"
     },
     "metadata": {},
     "execution_count": 26
    }
   ],
   "source": [
    " df.append({'numbers': 100, 'floats': 5.75, 'names': 'Jil'},\n",
    "                        ignore_index=True)"
   ]
  },
  {
   "cell_type": "code",
   "execution_count": 29,
   "metadata": {},
   "outputs": [],
   "source": [
    "df = df.append(pd.DataFrame({'numbers': 100, 'floats': 5.75,\n",
    "                                      'names': 'Jil'}, index=['y']))"
   ]
  },
  {
   "cell_type": "code",
   "execution_count": 30,
   "metadata": {},
   "outputs": [
    {
     "output_type": "execute_result",
     "data": {
      "text/plain": [
       "   numbers  floats   names\n",
       "a       10    1.50  Sandra\n",
       "b       20    2.50   Lilli\n",
       "c       30    3.50   Henry\n",
       "d       40    4.50    Yves\n",
       "y      100    5.75     Jil\n",
       "y      100    5.75     Jil"
      ],
      "text/html": "<div>\n<style scoped>\n    .dataframe tbody tr th:only-of-type {\n        vertical-align: middle;\n    }\n\n    .dataframe tbody tr th {\n        vertical-align: top;\n    }\n\n    .dataframe thead th {\n        text-align: right;\n    }\n</style>\n<table border=\"1\" class=\"dataframe\">\n  <thead>\n    <tr style=\"text-align: right;\">\n      <th></th>\n      <th>numbers</th>\n      <th>floats</th>\n      <th>names</th>\n    </tr>\n  </thead>\n  <tbody>\n    <tr>\n      <th>a</th>\n      <td>10</td>\n      <td>1.50</td>\n      <td>Sandra</td>\n    </tr>\n    <tr>\n      <th>b</th>\n      <td>20</td>\n      <td>2.50</td>\n      <td>Lilli</td>\n    </tr>\n    <tr>\n      <th>c</th>\n      <td>30</td>\n      <td>3.50</td>\n      <td>Henry</td>\n    </tr>\n    <tr>\n      <th>d</th>\n      <td>40</td>\n      <td>4.50</td>\n      <td>Yves</td>\n    </tr>\n    <tr>\n      <th>y</th>\n      <td>100</td>\n      <td>5.75</td>\n      <td>Jil</td>\n    </tr>\n    <tr>\n      <th>y</th>\n      <td>100</td>\n      <td>5.75</td>\n      <td>Jil</td>\n    </tr>\n  </tbody>\n</table>\n</div>"
     },
     "metadata": {},
     "execution_count": 30
    }
   ],
   "source": [
    "df"
   ]
  },
  {
   "cell_type": "code",
   "execution_count": 31,
   "metadata": {},
   "outputs": [],
   "source": [
    "df = df.append(pd.DataFrame({'names': 'Liz'}, index=['z',]),\n",
    "                        sort=False)"
   ]
  },
  {
   "cell_type": "code",
   "execution_count": 32,
   "metadata": {},
   "outputs": [
    {
     "output_type": "execute_result",
     "data": {
      "text/plain": [
       "   numbers  floats   names\n",
       "a     10.0    1.50  Sandra\n",
       "b     20.0    2.50   Lilli\n",
       "c     30.0    3.50   Henry\n",
       "d     40.0    4.50    Yves\n",
       "y    100.0    5.75     Jil\n",
       "y    100.0    5.75     Jil\n",
       "z      NaN     NaN     Liz"
      ],
      "text/html": "<div>\n<style scoped>\n    .dataframe tbody tr th:only-of-type {\n        vertical-align: middle;\n    }\n\n    .dataframe tbody tr th {\n        vertical-align: top;\n    }\n\n    .dataframe thead th {\n        text-align: right;\n    }\n</style>\n<table border=\"1\" class=\"dataframe\">\n  <thead>\n    <tr style=\"text-align: right;\">\n      <th></th>\n      <th>numbers</th>\n      <th>floats</th>\n      <th>names</th>\n    </tr>\n  </thead>\n  <tbody>\n    <tr>\n      <th>a</th>\n      <td>10.0</td>\n      <td>1.50</td>\n      <td>Sandra</td>\n    </tr>\n    <tr>\n      <th>b</th>\n      <td>20.0</td>\n      <td>2.50</td>\n      <td>Lilli</td>\n    </tr>\n    <tr>\n      <th>c</th>\n      <td>30.0</td>\n      <td>3.50</td>\n      <td>Henry</td>\n    </tr>\n    <tr>\n      <th>d</th>\n      <td>40.0</td>\n      <td>4.50</td>\n      <td>Yves</td>\n    </tr>\n    <tr>\n      <th>y</th>\n      <td>100.0</td>\n      <td>5.75</td>\n      <td>Jil</td>\n    </tr>\n    <tr>\n      <th>y</th>\n      <td>100.0</td>\n      <td>5.75</td>\n      <td>Jil</td>\n    </tr>\n    <tr>\n      <th>z</th>\n      <td>NaN</td>\n      <td>NaN</td>\n      <td>Liz</td>\n    </tr>\n  </tbody>\n</table>\n</div>"
     },
     "metadata": {},
     "execution_count": 32
    }
   ],
   "source": [
    "df"
   ]
  },
  {
   "cell_type": "code",
   "execution_count": 33,
   "metadata": {},
   "outputs": [
    {
     "output_type": "execute_result",
     "data": {
      "text/plain": [
       "numbers    float64\n",
       "floats     float64\n",
       "names       object\n",
       "dtype: object"
      ]
     },
     "metadata": {},
     "execution_count": 33
    }
   ],
   "source": [
    "df.dtypes"
   ]
  },
  {
   "cell_type": "code",
   "execution_count": 34,
   "metadata": {},
   "outputs": [
    {
     "output_type": "execute_result",
     "data": {
      "text/plain": [
       "numbers    50.000000\n",
       "floats      3.916667\n",
       "dtype: float64"
      ]
     },
     "metadata": {},
     "execution_count": 34
    }
   ],
   "source": [
    "df[['numbers', 'floats']].mean()"
   ]
  },
  {
   "cell_type": "code",
   "execution_count": 35,
   "metadata": {},
   "outputs": [
    {
     "output_type": "execute_result",
     "data": {
      "text/plain": [
       "numbers    40.000000\n",
       "floats      1.736855\n",
       "dtype: float64"
      ]
     },
     "metadata": {},
     "execution_count": 35
    }
   ],
   "source": [
    "df[['numbers', 'floats']].std()"
   ]
  },
  {
   "cell_type": "code",
   "execution_count": 36,
   "metadata": {},
   "outputs": [],
   "source": [
    "#Second Steps with the DataFrame Class"
   ]
  },
  {
   "cell_type": "code",
   "execution_count": 37,
   "metadata": {},
   "outputs": [],
   "source": [
    " import numpy as np\n",
    " np.random.seed(100)"
   ]
  },
  {
   "cell_type": "code",
   "execution_count": 38,
   "metadata": {},
   "outputs": [
    {
     "output_type": "execute_result",
     "data": {
      "text/plain": [
       "array([[-1.74976547,  0.3426804 ,  1.1530358 , -0.25243604],\n",
       "       [ 0.98132079,  0.51421884,  0.22117967, -1.07004333],\n",
       "       [-0.18949583,  0.25500144, -0.45802699,  0.43516349],\n",
       "       [-0.58359505,  0.81684707,  0.67272081, -0.10441114],\n",
       "       [-0.53128038,  1.02973269, -0.43813562, -1.11831825],\n",
       "       [ 1.61898166,  1.54160517, -0.25187914, -0.84243574],\n",
       "       [ 0.18451869,  0.9370822 ,  0.73100034,  1.36155613],\n",
       "       [-0.32623806,  0.05567601,  0.22239961, -1.443217  ],\n",
       "       [-0.75635231,  0.81645401,  0.75044476, -0.45594693]])"
      ]
     },
     "metadata": {},
     "execution_count": 38
    }
   ],
   "source": [
    "a = np.random.standard_normal((9, 4))\n",
    "a"
   ]
  },
  {
   "cell_type": "code",
   "execution_count": 39,
   "metadata": {},
   "outputs": [],
   "source": [
    "df = pd.DataFrame(a)"
   ]
  },
  {
   "cell_type": "code",
   "execution_count": 40,
   "metadata": {},
   "outputs": [
    {
     "output_type": "execute_result",
     "data": {
      "text/plain": [
       "          0         1         2         3\n",
       "0 -1.749765  0.342680  1.153036 -0.252436\n",
       "1  0.981321  0.514219  0.221180 -1.070043\n",
       "2 -0.189496  0.255001 -0.458027  0.435163\n",
       "3 -0.583595  0.816847  0.672721 -0.104411\n",
       "4 -0.531280  1.029733 -0.438136 -1.118318\n",
       "5  1.618982  1.541605 -0.251879 -0.842436\n",
       "6  0.184519  0.937082  0.731000  1.361556\n",
       "7 -0.326238  0.055676  0.222400 -1.443217\n",
       "8 -0.756352  0.816454  0.750445 -0.455947"
      ],
      "text/html": "<div>\n<style scoped>\n    .dataframe tbody tr th:only-of-type {\n        vertical-align: middle;\n    }\n\n    .dataframe tbody tr th {\n        vertical-align: top;\n    }\n\n    .dataframe thead th {\n        text-align: right;\n    }\n</style>\n<table border=\"1\" class=\"dataframe\">\n  <thead>\n    <tr style=\"text-align: right;\">\n      <th></th>\n      <th>0</th>\n      <th>1</th>\n      <th>2</th>\n      <th>3</th>\n    </tr>\n  </thead>\n  <tbody>\n    <tr>\n      <th>0</th>\n      <td>-1.749765</td>\n      <td>0.342680</td>\n      <td>1.153036</td>\n      <td>-0.252436</td>\n    </tr>\n    <tr>\n      <th>1</th>\n      <td>0.981321</td>\n      <td>0.514219</td>\n      <td>0.221180</td>\n      <td>-1.070043</td>\n    </tr>\n    <tr>\n      <th>2</th>\n      <td>-0.189496</td>\n      <td>0.255001</td>\n      <td>-0.458027</td>\n      <td>0.435163</td>\n    </tr>\n    <tr>\n      <th>3</th>\n      <td>-0.583595</td>\n      <td>0.816847</td>\n      <td>0.672721</td>\n      <td>-0.104411</td>\n    </tr>\n    <tr>\n      <th>4</th>\n      <td>-0.531280</td>\n      <td>1.029733</td>\n      <td>-0.438136</td>\n      <td>-1.118318</td>\n    </tr>\n    <tr>\n      <th>5</th>\n      <td>1.618982</td>\n      <td>1.541605</td>\n      <td>-0.251879</td>\n      <td>-0.842436</td>\n    </tr>\n    <tr>\n      <th>6</th>\n      <td>0.184519</td>\n      <td>0.937082</td>\n      <td>0.731000</td>\n      <td>1.361556</td>\n    </tr>\n    <tr>\n      <th>7</th>\n      <td>-0.326238</td>\n      <td>0.055676</td>\n      <td>0.222400</td>\n      <td>-1.443217</td>\n    </tr>\n    <tr>\n      <th>8</th>\n      <td>-0.756352</td>\n      <td>0.816454</td>\n      <td>0.750445</td>\n      <td>-0.455947</td>\n    </tr>\n  </tbody>\n</table>\n</div>"
     },
     "metadata": {},
     "execution_count": 40
    }
   ],
   "source": [
    "df"
   ]
  },
  {
   "cell_type": "code",
   "execution_count": 41,
   "metadata": {},
   "outputs": [
    {
     "output_type": "execute_result",
     "data": {
      "text/plain": [
       "0    float64\n",
       "1    float64\n",
       "2    float64\n",
       "3    float64\n",
       "dtype: object"
      ]
     },
     "metadata": {},
     "execution_count": 41
    }
   ],
   "source": [
    "df.dtypes"
   ]
  },
  {
   "cell_type": "code",
   "execution_count": 42,
   "metadata": {},
   "outputs": [
    {
     "output_type": "execute_result",
     "data": {
      "text/plain": [
       "        No1       No2       No3       No4\n",
       "0 -1.749765  0.342680  1.153036 -0.252436\n",
       "1  0.981321  0.514219  0.221180 -1.070043\n",
       "2 -0.189496  0.255001 -0.458027  0.435163\n",
       "3 -0.583595  0.816847  0.672721 -0.104411\n",
       "4 -0.531280  1.029733 -0.438136 -1.118318\n",
       "5  1.618982  1.541605 -0.251879 -0.842436\n",
       "6  0.184519  0.937082  0.731000  1.361556\n",
       "7 -0.326238  0.055676  0.222400 -1.443217\n",
       "8 -0.756352  0.816454  0.750445 -0.455947"
      ],
      "text/html": "<div>\n<style scoped>\n    .dataframe tbody tr th:only-of-type {\n        vertical-align: middle;\n    }\n\n    .dataframe tbody tr th {\n        vertical-align: top;\n    }\n\n    .dataframe thead th {\n        text-align: right;\n    }\n</style>\n<table border=\"1\" class=\"dataframe\">\n  <thead>\n    <tr style=\"text-align: right;\">\n      <th></th>\n      <th>No1</th>\n      <th>No2</th>\n      <th>No3</th>\n      <th>No4</th>\n    </tr>\n  </thead>\n  <tbody>\n    <tr>\n      <th>0</th>\n      <td>-1.749765</td>\n      <td>0.342680</td>\n      <td>1.153036</td>\n      <td>-0.252436</td>\n    </tr>\n    <tr>\n      <th>1</th>\n      <td>0.981321</td>\n      <td>0.514219</td>\n      <td>0.221180</td>\n      <td>-1.070043</td>\n    </tr>\n    <tr>\n      <th>2</th>\n      <td>-0.189496</td>\n      <td>0.255001</td>\n      <td>-0.458027</td>\n      <td>0.435163</td>\n    </tr>\n    <tr>\n      <th>3</th>\n      <td>-0.583595</td>\n      <td>0.816847</td>\n      <td>0.672721</td>\n      <td>-0.104411</td>\n    </tr>\n    <tr>\n      <th>4</th>\n      <td>-0.531280</td>\n      <td>1.029733</td>\n      <td>-0.438136</td>\n      <td>-1.118318</td>\n    </tr>\n    <tr>\n      <th>5</th>\n      <td>1.618982</td>\n      <td>1.541605</td>\n      <td>-0.251879</td>\n      <td>-0.842436</td>\n    </tr>\n    <tr>\n      <th>6</th>\n      <td>0.184519</td>\n      <td>0.937082</td>\n      <td>0.731000</td>\n      <td>1.361556</td>\n    </tr>\n    <tr>\n      <th>7</th>\n      <td>-0.326238</td>\n      <td>0.055676</td>\n      <td>0.222400</td>\n      <td>-1.443217</td>\n    </tr>\n    <tr>\n      <th>8</th>\n      <td>-0.756352</td>\n      <td>0.816454</td>\n      <td>0.750445</td>\n      <td>-0.455947</td>\n    </tr>\n  </tbody>\n</table>\n</div>"
     },
     "metadata": {},
     "execution_count": 42
    }
   ],
   "source": [
    "df.columns = ['No1', 'No2', 'No3', 'No4'] \n",
    "df"
   ]
  },
  {
   "cell_type": "code",
   "execution_count": 43,
   "metadata": {},
   "outputs": [
    {
     "output_type": "execute_result",
     "data": {
      "text/plain": [
       "0.7010330941456459"
      ]
     },
     "metadata": {},
     "execution_count": 43
    }
   ],
   "source": [
    "df['No2'].mean()"
   ]
  },
  {
   "cell_type": "code",
   "execution_count": 45,
   "metadata": {},
   "outputs": [
    {
     "output_type": "execute_result",
     "data": {
      "text/plain": [
       "DatetimeIndex(['2019-01-31', '2019-02-28', '2019-03-31', '2019-04-30',\n",
       "               '2019-05-31', '2019-06-30', '2019-07-31', '2019-08-31',\n",
       "               '2019-09-30'],\n",
       "              dtype='datetime64[ns]', freq='M')"
      ]
     },
     "metadata": {},
     "execution_count": 45
    }
   ],
   "source": [
    "dates = pd.date_range('2019-1-1', periods=9, freq='M')\n",
    "dates"
   ]
  },
  {
   "cell_type": "code",
   "execution_count": 46,
   "metadata": {},
   "outputs": [],
   "source": [
    "df.index=dates"
   ]
  },
  {
   "cell_type": "code",
   "execution_count": 47,
   "metadata": {},
   "outputs": [
    {
     "output_type": "execute_result",
     "data": {
      "text/plain": [
       "                 No1       No2       No3       No4\n",
       "2019-01-31 -1.749765  0.342680  1.153036 -0.252436\n",
       "2019-02-28  0.981321  0.514219  0.221180 -1.070043\n",
       "2019-03-31 -0.189496  0.255001 -0.458027  0.435163\n",
       "2019-04-30 -0.583595  0.816847  0.672721 -0.104411\n",
       "2019-05-31 -0.531280  1.029733 -0.438136 -1.118318\n",
       "2019-06-30  1.618982  1.541605 -0.251879 -0.842436\n",
       "2019-07-31  0.184519  0.937082  0.731000  1.361556\n",
       "2019-08-31 -0.326238  0.055676  0.222400 -1.443217\n",
       "2019-09-30 -0.756352  0.816454  0.750445 -0.455947"
      ],
      "text/html": "<div>\n<style scoped>\n    .dataframe tbody tr th:only-of-type {\n        vertical-align: middle;\n    }\n\n    .dataframe tbody tr th {\n        vertical-align: top;\n    }\n\n    .dataframe thead th {\n        text-align: right;\n    }\n</style>\n<table border=\"1\" class=\"dataframe\">\n  <thead>\n    <tr style=\"text-align: right;\">\n      <th></th>\n      <th>No1</th>\n      <th>No2</th>\n      <th>No3</th>\n      <th>No4</th>\n    </tr>\n  </thead>\n  <tbody>\n    <tr>\n      <th>2019-01-31</th>\n      <td>-1.749765</td>\n      <td>0.342680</td>\n      <td>1.153036</td>\n      <td>-0.252436</td>\n    </tr>\n    <tr>\n      <th>2019-02-28</th>\n      <td>0.981321</td>\n      <td>0.514219</td>\n      <td>0.221180</td>\n      <td>-1.070043</td>\n    </tr>\n    <tr>\n      <th>2019-03-31</th>\n      <td>-0.189496</td>\n      <td>0.255001</td>\n      <td>-0.458027</td>\n      <td>0.435163</td>\n    </tr>\n    <tr>\n      <th>2019-04-30</th>\n      <td>-0.583595</td>\n      <td>0.816847</td>\n      <td>0.672721</td>\n      <td>-0.104411</td>\n    </tr>\n    <tr>\n      <th>2019-05-31</th>\n      <td>-0.531280</td>\n      <td>1.029733</td>\n      <td>-0.438136</td>\n      <td>-1.118318</td>\n    </tr>\n    <tr>\n      <th>2019-06-30</th>\n      <td>1.618982</td>\n      <td>1.541605</td>\n      <td>-0.251879</td>\n      <td>-0.842436</td>\n    </tr>\n    <tr>\n      <th>2019-07-31</th>\n      <td>0.184519</td>\n      <td>0.937082</td>\n      <td>0.731000</td>\n      <td>1.361556</td>\n    </tr>\n    <tr>\n      <th>2019-08-31</th>\n      <td>-0.326238</td>\n      <td>0.055676</td>\n      <td>0.222400</td>\n      <td>-1.443217</td>\n    </tr>\n    <tr>\n      <th>2019-09-30</th>\n      <td>-0.756352</td>\n      <td>0.816454</td>\n      <td>0.750445</td>\n      <td>-0.455947</td>\n    </tr>\n  </tbody>\n</table>\n</div>"
     },
     "metadata": {},
     "execution_count": 47
    }
   ],
   "source": [
    "df"
   ]
  },
  {
   "cell_type": "code",
   "execution_count": 49,
   "metadata": {},
   "outputs": [
    {
     "output_type": "execute_result",
     "data": {
      "text/plain": [
       "array([[-1.74976547,  0.3426804 ,  1.1530358 , -0.25243604],\n",
       "       [ 0.98132079,  0.51421884,  0.22117967, -1.07004333],\n",
       "       [-0.18949583,  0.25500144, -0.45802699,  0.43516349],\n",
       "       [-0.58359505,  0.81684707,  0.67272081, -0.10441114],\n",
       "       [-0.53128038,  1.02973269, -0.43813562, -1.11831825],\n",
       "       [ 1.61898166,  1.54160517, -0.25187914, -0.84243574],\n",
       "       [ 0.18451869,  0.9370822 ,  0.73100034,  1.36155613],\n",
       "       [-0.32623806,  0.05567601,  0.22239961, -1.443217  ],\n",
       "       [-0.75635231,  0.81645401,  0.75044476, -0.45594693]])"
      ]
     },
     "metadata": {},
     "execution_count": 49
    }
   ],
   "source": [
    "df.values"
   ]
  },
  {
   "cell_type": "code",
   "execution_count": 50,
   "metadata": {},
   "outputs": [
    {
     "output_type": "execute_result",
     "data": {
      "text/plain": [
       "array([[-1.74976547,  0.3426804 ,  1.1530358 , -0.25243604],\n",
       "       [ 0.98132079,  0.51421884,  0.22117967, -1.07004333],\n",
       "       [-0.18949583,  0.25500144, -0.45802699,  0.43516349],\n",
       "       [-0.58359505,  0.81684707,  0.67272081, -0.10441114],\n",
       "       [-0.53128038,  1.02973269, -0.43813562, -1.11831825],\n",
       "       [ 1.61898166,  1.54160517, -0.25187914, -0.84243574],\n",
       "       [ 0.18451869,  0.9370822 ,  0.73100034,  1.36155613],\n",
       "       [-0.32623806,  0.05567601,  0.22239961, -1.443217  ],\n",
       "       [-0.75635231,  0.81645401,  0.75044476, -0.45594693]])"
      ]
     },
     "metadata": {},
     "execution_count": 50
    }
   ],
   "source": [
    "np.array(df)"
   ]
  },
  {
   "cell_type": "code",
   "execution_count": 55,
   "metadata": {},
   "outputs": [],
   "source": [
    "#Things to be notes for ARRAYS AND DATAFRAMES\n",
    "###One can generate a DataFrame object from an ndarray object, but one can also easily generate an ndarray object out of a DataFrame by using the values attribute of the DataFrame class or the function np.array() of NumPy."
   ]
  },
  {
   "cell_type": "code",
   "execution_count": 56,
   "metadata": {},
   "outputs": [],
   "source": [
    "#Basic Analytics"
   ]
  },
  {
   "cell_type": "code",
   "execution_count": 57,
   "metadata": {},
   "outputs": [
    {
     "output_type": "stream",
     "name": "stdout",
     "text": [
      "<class 'pandas.core.frame.DataFrame'>\nDatetimeIndex: 9 entries, 2019-01-31 to 2019-09-30\nFreq: M\nData columns (total 4 columns):\n #   Column  Non-Null Count  Dtype  \n---  ------  --------------  -----  \n 0   No1     9 non-null      float64\n 1   No2     9 non-null      float64\n 2   No3     9 non-null      float64\n 3   No4     9 non-null      float64\ndtypes: float64(4)\nmemory usage: 360.0 bytes\n"
     ]
    }
   ],
   "source": [
    "df.info()"
   ]
  },
  {
   "cell_type": "code",
   "execution_count": 58,
   "metadata": {},
   "outputs": [
    {
     "output_type": "execute_result",
     "data": {
      "text/plain": [
       "            No1       No2       No3       No4\n",
       "count  9.000000  9.000000  9.000000  9.000000\n",
       "mean  -0.150212  0.701033  0.289193 -0.387788\n",
       "std    0.988306  0.457685  0.579920  0.877532\n",
       "min   -1.749765  0.055676 -0.458027 -1.443217\n",
       "25%   -0.583595  0.342680 -0.251879 -1.070043\n",
       "50%   -0.326238  0.816454  0.222400 -0.455947\n",
       "75%    0.184519  0.937082  0.731000 -0.104411\n",
       "max    1.618982  1.541605  1.153036  1.361556"
      ],
      "text/html": "<div>\n<style scoped>\n    .dataframe tbody tr th:only-of-type {\n        vertical-align: middle;\n    }\n\n    .dataframe tbody tr th {\n        vertical-align: top;\n    }\n\n    .dataframe thead th {\n        text-align: right;\n    }\n</style>\n<table border=\"1\" class=\"dataframe\">\n  <thead>\n    <tr style=\"text-align: right;\">\n      <th></th>\n      <th>No1</th>\n      <th>No2</th>\n      <th>No3</th>\n      <th>No4</th>\n    </tr>\n  </thead>\n  <tbody>\n    <tr>\n      <th>count</th>\n      <td>9.000000</td>\n      <td>9.000000</td>\n      <td>9.000000</td>\n      <td>9.000000</td>\n    </tr>\n    <tr>\n      <th>mean</th>\n      <td>-0.150212</td>\n      <td>0.701033</td>\n      <td>0.289193</td>\n      <td>-0.387788</td>\n    </tr>\n    <tr>\n      <th>std</th>\n      <td>0.988306</td>\n      <td>0.457685</td>\n      <td>0.579920</td>\n      <td>0.877532</td>\n    </tr>\n    <tr>\n      <th>min</th>\n      <td>-1.749765</td>\n      <td>0.055676</td>\n      <td>-0.458027</td>\n      <td>-1.443217</td>\n    </tr>\n    <tr>\n      <th>25%</th>\n      <td>-0.583595</td>\n      <td>0.342680</td>\n      <td>-0.251879</td>\n      <td>-1.070043</td>\n    </tr>\n    <tr>\n      <th>50%</th>\n      <td>-0.326238</td>\n      <td>0.816454</td>\n      <td>0.222400</td>\n      <td>-0.455947</td>\n    </tr>\n    <tr>\n      <th>75%</th>\n      <td>0.184519</td>\n      <td>0.937082</td>\n      <td>0.731000</td>\n      <td>-0.104411</td>\n    </tr>\n    <tr>\n      <th>max</th>\n      <td>1.618982</td>\n      <td>1.541605</td>\n      <td>1.153036</td>\n      <td>1.361556</td>\n    </tr>\n  </tbody>\n</table>\n</div>"
     },
     "metadata": {},
     "execution_count": 58
    }
   ],
   "source": [
    "df.describe()"
   ]
  },
  {
   "cell_type": "code",
   "execution_count": null,
   "metadata": {},
   "outputs": [],
   "source": []
  }
 ]
}